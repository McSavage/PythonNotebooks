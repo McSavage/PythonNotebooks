{
 "cells": [
  {
   "cell_type": "code",
   "execution_count": 1,
   "id": "bfd107c1",
   "metadata": {},
   "outputs": [
    {
     "name": "stdout",
     "output_type": "stream",
     "text": [
      "[1, 2, 3]\n",
      "2269746881024 2269746969920\n"
     ]
    }
   ],
   "source": [
    "l1 = [1,2,3]\n",
    "\n",
    "l1_copy = []\n",
    "for item in l1:\n",
    "    l1_copy.append(item)\n",
    "\n",
    "print(l1_copy)\n",
    "print(id(l1), id(l1_copy))\n",
    "\n"
   ]
  },
  {
   "cell_type": "code",
   "execution_count": 2,
   "id": "ba63eaa8",
   "metadata": {},
   "outputs": [
    {
     "data": {
      "text/plain": [
       "[1, 2, 3]"
      ]
     },
     "execution_count": 2,
     "metadata": {},
     "output_type": "execute_result"
    }
   ],
   "source": [
    "l1_copy = [item for item in l1]\n",
    "l1_copy"
   ]
  },
  {
   "cell_type": "code",
   "execution_count": 5,
   "id": "b26baafa",
   "metadata": {},
   "outputs": [
    {
     "data": {
      "text/plain": [
       "2269750643584"
      ]
     },
     "execution_count": 5,
     "metadata": {},
     "output_type": "execute_result"
    }
   ],
   "source": [
    "id(l1_copy)"
   ]
  },
  {
   "cell_type": "code",
   "execution_count": 6,
   "id": "b669cfd7",
   "metadata": {},
   "outputs": [],
   "source": [
    "l1_copy = l1.copy()"
   ]
  },
  {
   "cell_type": "code",
   "execution_count": 7,
   "id": "9b860678",
   "metadata": {},
   "outputs": [
    {
     "data": {
      "text/plain": [
       "[1, 2, 3]"
      ]
     },
     "execution_count": 7,
     "metadata": {},
     "output_type": "execute_result"
    }
   ],
   "source": [
    "l1_copy"
   ]
  },
  {
   "cell_type": "code",
   "execution_count": 8,
   "id": "edc5ef10",
   "metadata": {},
   "outputs": [
    {
     "data": {
      "text/plain": [
       "(2269746881024, 2269763610688)"
      ]
     },
     "execution_count": 8,
     "metadata": {},
     "output_type": "execute_result"
    }
   ],
   "source": [
    "id(l1), id(l1_copy)"
   ]
  },
  {
   "cell_type": "markdown",
   "id": "864bf362",
   "metadata": {},
   "source": [
    "Deep Copy"
   ]
  },
  {
   "cell_type": "code",
   "execution_count": 20,
   "id": "c2b1c93f",
   "metadata": {},
   "outputs": [],
   "source": [
    "v1 = [1,1]\n",
    "v2 = [2,2]\n",
    "v3 = [3.3]\n",
    "v4 = [4,4]\n",
    "line1 = [v1, v2]\n",
    "line2 = [v3, v4]\n",
    "plane1 = [line1, line2]"
   ]
  },
  {
   "cell_type": "code",
   "execution_count": 21,
   "id": "85f9803c",
   "metadata": {},
   "outputs": [
    {
     "data": {
      "text/plain": [
       "[[[1, 1], [2, 2]], [[3.3], [4, 4]]]"
      ]
     },
     "execution_count": 21,
     "metadata": {},
     "output_type": "execute_result"
    }
   ],
   "source": [
    "plane1"
   ]
  },
  {
   "cell_type": "code",
   "execution_count": 29,
   "id": "d856286f",
   "metadata": {},
   "outputs": [],
   "source": [
    "class Point:\n",
    "    def __init__(self, x, y):\n",
    "        self.x = x\n",
    "        self.y = y\n",
    "\n",
    "    def __repr__(self):\n",
    "        return f'Point({self.x}, {self.y})'\n",
    "\n",
    "class Line:\n",
    "    def __init__(self, p1, p2):\n",
    "        self.p1 = p1\n",
    "        self.p2 = p2\n",
    "    \n",
    "    def __repr__(self):\n",
    "        return f'Line({self.p1.__repr__()}, {self.p2.__repr__()})'"
   ]
  },
  {
   "cell_type": "code",
   "execution_count": 30,
   "id": "7bc91406",
   "metadata": {},
   "outputs": [],
   "source": [
    "p1 = Point(0,0)\n",
    "p2 = Point(10,10)\n",
    "line1 = Line(p1, p2)\n",
    "\n",
    "import copy"
   ]
  },
  {
   "cell_type": "code",
   "execution_count": 31,
   "id": "9c597083",
   "metadata": {},
   "outputs": [],
   "source": [
    "line2 = copy.deepcopy(line1)"
   ]
  },
  {
   "cell_type": "code",
   "execution_count": 32,
   "id": "b5277701",
   "metadata": {},
   "outputs": [
    {
     "data": {
      "text/plain": [
       "Line(Point(0, 0), Point(10, 10))"
      ]
     },
     "execution_count": 32,
     "metadata": {},
     "output_type": "execute_result"
    }
   ],
   "source": [
    "line1"
   ]
  },
  {
   "cell_type": "code",
   "execution_count": 33,
   "id": "a27361ee",
   "metadata": {},
   "outputs": [
    {
     "data": {
      "text/plain": [
       "Line(Point(0, 0), Point(10, 10))"
      ]
     },
     "execution_count": 33,
     "metadata": {},
     "output_type": "execute_result"
    }
   ],
   "source": [
    "line2"
   ]
  }
 ],
 "metadata": {
  "kernelspec": {
   "display_name": "python311",
   "language": "python",
   "name": "python3"
  },
  "language_info": {
   "codemirror_mode": {
    "name": "ipython",
    "version": 3
   },
   "file_extension": ".py",
   "mimetype": "text/x-python",
   "name": "python",
   "nbconvert_exporter": "python",
   "pygments_lexer": "ipython3",
   "version": "3.11.9"
  }
 },
 "nbformat": 4,
 "nbformat_minor": 5
}
